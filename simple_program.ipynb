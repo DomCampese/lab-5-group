{
 "cells": [
  {
   "cell_type": "code",
   "execution_count": 5,
   "id": "given-slovakia",
   "metadata": {},
   "outputs": [
    {
     "name": "stdin",
     "output_type": "stream",
     "text": [
      "Enter a name! Dom\n",
      "How old are you Dom? 17\n"
     ]
    },
    {
     "name": "stdout",
     "output_type": "stream",
     "text": [
      "Dom is 17 Years old!\n"
     ]
    }
   ],
   "source": [
    "name = input(\"Enter a name!\")\n",
    "\n",
    "input2 = int(input(\"How old are you {name}?\".format(name=name)))\n",
    "\n",
    "print(name, \"is\", input2, \"Years old!\")"
   ]
  },
  {
   "cell_type": "code",
   "execution_count": null,
   "id": "bacterial-repository",
   "metadata": {},
   "outputs": [],
   "source": []
  }
 ],
 "metadata": {
  "kernelspec": {
   "display_name": "Python 3",
   "language": "python",
   "name": "python3"
  },
  "language_info": {
   "codemirror_mode": {
    "name": "ipython",
    "version": 3
   },
   "file_extension": ".py",
   "mimetype": "text/x-python",
   "name": "python",
   "nbconvert_exporter": "python",
   "pygments_lexer": "ipython3",
   "version": "3.7.7"
  }
 },
 "nbformat": 4,
 "nbformat_minor": 5
}
